{
  "nbformat": 4,
  "nbformat_minor": 0,
  "metadata": {
    "colab": {
      "provenance": [],
      "authorship_tag": "ABX9TyO/JNsrRggoNb/iyO7B26mw",
      "include_colab_link": true
    },
    "kernelspec": {
      "name": "python3",
      "display_name": "Python 3"
    },
    "language_info": {
      "name": "python"
    }
  },
  "cells": [
    {
      "cell_type": "markdown",
      "metadata": {
        "id": "view-in-github",
        "colab_type": "text"
      },
      "source": [
        "<a href=\"https://colab.research.google.com/github/WeslenLakins/converting-python-saved-models/blob/main/Converting_Models_Made_From_Python_to_TensorFlow_js_Format_with_the_TensorFlow_js_Command_Line_Converter.ipynb\" target=\"_parent\"><img src=\"https://colab.research.google.com/assets/colab-badge.svg\" alt=\"Open In Colab\"/></a>"
      ]
    },
    {
      "cell_type": "markdown",
      "source": [
        "First, connect your session to a server-side backend that is used to execute any code you write by selecting the \"Connect\" button at the top right of the screen"
      ],
      "metadata": {
        "id": "RA7JGB4txWbt"
      }
    },
    {
      "cell_type": "markdown",
      "source": [
        "The notebook is now connected to a hosted runtime in the cloud. Once the notebook has successfully been allocated a back-end server, you will see the RAM and Disk usage. Your notebook can now execute Python and terminal commands."
      ],
      "metadata": {
        "id": "VfIHgt_IxpKf"
      }
    },
    {
      "cell_type": "markdown",
      "source": [
        "The code below essentially imports a few libraries and then goes on to access the MobileNet v2 model. The model is obtained along with setting hyper-parameters such as the expected input shape, loading the default pre-trained weights for the model, and the classifier_activation function type.\n"
      ],
      "metadata": {
        "id": "j2EuqFizx2pi"
      }
    },
    {
      "cell_type": "markdown",
      "source": [
        "Click the Play button on the left to execute the code. This imports the libraries that future code blocks will use, downloads the MobileNet v2 model, and stores it in a variable called ‘model’."
      ],
      "metadata": {
        "id": "WPEeQU4O0R_p"
      }
    },
    {
      "cell_type": "code",
      "execution_count": 3,
      "metadata": {
        "id": "Lky9Ep5HqH5I"
      },
      "outputs": [],
      "source": [
        "import os\n",
        "import tensorflow as tf\n",
        "\n",
        "model = tf.keras.applications.mobilenet_v2.MobileNetV2(\n",
        "    input_shape=(224, 224, 3), weights='imagenet',\n",
        "    classifier_activation='softmax'\n",
        ")"
      ]
    },
    {
      "cell_type": "markdown",
      "source": [
        "After a few seconds, the output appears below the cell. This is accompanied by a small green tick on the left hand of the code, indicating it has successfully executed. If you copied something incorrectly, you may see an error message printed instead."
      ],
      "metadata": {
        "id": "GQK93BJ5yAbj"
      }
    },
    {
      "cell_type": "markdown",
      "source": [
        "The code below will import the functions that allow you to save the model, and then create a folder called mobilenetv2 inside of the operating system’s ‘/tmp’ folder to which it will save the model.\n",
        "\n",
        ""
      ],
      "metadata": {
        "id": "zY-7G7_4zyZe"
      }
    },
    {
      "cell_type": "markdown",
      "source": [
        "Your saved model file is named ‘saved_model.h5’. This is a Python Keras saved model that uses the ‘h5’ format."
      ],
      "metadata": {
        "id": "812eAPqM0hZn"
      }
    },
    {
      "cell_type": "markdown",
      "source": [
        "Note: Python models may be saved in either ‘.h5’ or ‘.pb’ formats. By exporting the current model to the ‘.h5’ format, the TensorFlow.js converter is able to convert the model to a ‘layers’ model. On the other hand, exporting a model to the ‘.pb’ format will result in a ‘graph’ model after conversion. You may choose the format that fits what you need - ‘layers’ for transfer learning ability, or ‘graph’ for speed of execution but less flexibility for modification later on."
      ],
      "metadata": {
        "id": "BQymECd00mgi"
      }
    },
    {
      "cell_type": "markdown",
      "source": [
        "Execute the second code cell which will save the model to disk."
      ],
      "metadata": {
        "id": "W_zXKhdm0s4p"
      }
    },
    {
      "cell_type": "code",
      "source": [
        "from tensorflow.python.saved_model.save import save\n",
        "\n",
        "save_dir = os.path.join('/tmp/', 'mobilenetv2/saved_model.h5')\n",
        "model.save(save_dir)"
      ],
      "metadata": {
        "colab": {
          "base_uri": "https://localhost:8080/"
        },
        "id": "dyDMxs0OrQL7",
        "outputId": "6de21a29-a3fc-46bc-bd4c-548e83309c7f"
      },
      "execution_count": 4,
      "outputs": [
        {
          "output_type": "stream",
          "name": "stderr",
          "text": [
            "/usr/local/lib/python3.10/dist-packages/keras/src/engine/training.py:3103: UserWarning: You are saving your model as an HDF5 file via `model.save()`. This file format is considered legacy. We recommend using instead the native Keras format, e.g. `model.save('my_model.keras')`.\n",
            "  saving_api.save_model(\n",
            "WARNING:tensorflow:Compiled the loaded model, but the compiled metrics have yet to be built. `model.compile_metrics` will be empty until you train or evaluate the model.\n"
          ]
        }
      ]
    },
    {
      "cell_type": "markdown",
      "source": [
        "After a few seconds, you will see some output and the green tick when execution is complete. A warning message shows up at this point, but it can be safely ignored."
      ],
      "metadata": {
        "id": "d2SKM-eA0uiG"
      }
    },
    {
      "cell_type": "markdown",
      "source": [
        "Next check the model was successfully saved. Select the file icon on the left bar."
      ],
      "metadata": {
        "id": "zF_PqSN_1fGX"
      }
    },
    {
      "cell_type": "markdown",
      "source": [
        "The file system explorer opens, allowing you to browse the contents of the hard drive of the remote server to which you are connected."
      ],
      "metadata": {
        "id": "iZ_LGpex1kNG"
      }
    },
    {
      "cell_type": "markdown",
      "source": [
        "Navigate to the ‘/tmp’ directory by selecting the folder icon that takes you to the parent folder one level higher."
      ],
      "metadata": {
        "id": "bRy1PaHR1m3G"
      }
    },
    {
      "cell_type": "markdown",
      "source": [
        "You will find a lengthy list of folders on the Linux file system. Expand the ‘tmp’ folder located near the bottom of the list. Note that you may need to scroll down to view it depending on how tall your window is."
      ],
      "metadata": {
        "id": "7WBWnd4s1q-9"
      }
    },
    {
      "cell_type": "markdown",
      "source": [
        "Select the ‘tmp’ folder and find the ‘mobilenetv2’ folder that you created after executing the code."
      ],
      "metadata": {
        "id": "kL36JP5W1wc_"
      }
    },
    {
      "cell_type": "markdown",
      "source": [
        "Select the ‘mobilenetv2’ folder to see the newly created ‘saved_model.h5’ file"
      ],
      "metadata": {
        "id": "0WBM-j8t10QE"
      }
    },
    {
      "cell_type": "markdown",
      "source": [
        "If you see the saved file in this location you are ready to continue. In the next step, you will install TensorFlow.js Python utilities and convert your saved h5 model to the TensorFlow.js format you are familiar with."
      ],
      "metadata": {
        "id": "cNWA0r8y15ov"
      }
    },
    {
      "cell_type": "markdown",
      "source": [
        "This code block below starts with an exclamation point. This indicates that it executes a terminal command instead of Python code. This command uses the ‘pip3’ package manager to install ‘tensorflowjs utilities’ for Python. Pip is similar to NPM but for the Python ecosystem instead of Node.js.\n"
      ],
      "metadata": {
        "id": "PlvD7qSpyOuI"
      }
    },
    {
      "cell_type": "markdown",
      "source": [
        "Select the Play icon for this new line of code and wait for it to successfully install TensorFlow.js."
      ],
      "metadata": {
        "id": "NaGElIpv1Afe"
      }
    },
    {
      "cell_type": "code",
      "source": [
        "!pip3 install tensorflowjs"
      ],
      "metadata": {
        "colab": {
          "base_uri": "https://localhost:8080/"
        },
        "id": "PMqlVEiFt10Q",
        "outputId": "97f9657f-b9ba-4d13-a73f-29dc58641157"
      },
      "execution_count": 1,
      "outputs": [
        {
          "output_type": "stream",
          "name": "stdout",
          "text": [
            "Requirement already satisfied: tensorflowjs in /usr/local/lib/python3.10/dist-packages (4.17.0)\n",
            "Requirement already satisfied: flax>=0.7.2 in /usr/local/lib/python3.10/dist-packages (from tensorflowjs) (0.8.2)\n",
            "Requirement already satisfied: importlib_resources>=5.9.0 in /usr/local/lib/python3.10/dist-packages (from tensorflowjs) (6.4.0)\n",
            "Requirement already satisfied: jax>=0.4.13 in /usr/local/lib/python3.10/dist-packages (from tensorflowjs) (0.4.26)\n",
            "Requirement already satisfied: jaxlib>=0.4.13 in /usr/local/lib/python3.10/dist-packages (from tensorflowjs) (0.4.26+cuda12.cudnn89)\n",
            "Requirement already satisfied: tensorflow<3,>=2.13.0 in /usr/local/lib/python3.10/dist-packages (from tensorflowjs) (2.16.1)\n",
            "Requirement already satisfied: tensorflow-decision-forests>=1.5.0 in /usr/local/lib/python3.10/dist-packages (from tensorflowjs) (1.9.0)\n",
            "Requirement already satisfied: six<2,>=1.16.0 in /usr/local/lib/python3.10/dist-packages (from tensorflowjs) (1.16.0)\n",
            "Requirement already satisfied: tensorflow-hub>=0.14.0 in /usr/local/lib/python3.10/dist-packages (from tensorflowjs) (0.16.1)\n",
            "Requirement already satisfied: packaging~=23.1 in /usr/local/lib/python3.10/dist-packages (from tensorflowjs) (23.2)\n",
            "Requirement already satisfied: numpy>=1.22 in /usr/local/lib/python3.10/dist-packages (from flax>=0.7.2->tensorflowjs) (1.25.2)\n",
            "Requirement already satisfied: msgpack in /usr/local/lib/python3.10/dist-packages (from flax>=0.7.2->tensorflowjs) (1.0.8)\n",
            "Requirement already satisfied: optax in /usr/local/lib/python3.10/dist-packages (from flax>=0.7.2->tensorflowjs) (0.2.2)\n",
            "Requirement already satisfied: orbax-checkpoint in /usr/local/lib/python3.10/dist-packages (from flax>=0.7.2->tensorflowjs) (0.4.4)\n",
            "Requirement already satisfied: tensorstore in /usr/local/lib/python3.10/dist-packages (from flax>=0.7.2->tensorflowjs) (0.1.45)\n",
            "Requirement already satisfied: rich>=11.1 in /usr/local/lib/python3.10/dist-packages (from flax>=0.7.2->tensorflowjs) (13.7.1)\n",
            "Requirement already satisfied: typing-extensions>=4.2 in /usr/local/lib/python3.10/dist-packages (from flax>=0.7.2->tensorflowjs) (4.11.0)\n",
            "Requirement already satisfied: PyYAML>=5.4.1 in /usr/local/lib/python3.10/dist-packages (from flax>=0.7.2->tensorflowjs) (6.0.1)\n",
            "Requirement already satisfied: ml-dtypes>=0.2.0 in /usr/local/lib/python3.10/dist-packages (from jax>=0.4.13->tensorflowjs) (0.3.2)\n",
            "Requirement already satisfied: opt-einsum in /usr/local/lib/python3.10/dist-packages (from jax>=0.4.13->tensorflowjs) (3.3.0)\n",
            "Requirement already satisfied: scipy>=1.9 in /usr/local/lib/python3.10/dist-packages (from jax>=0.4.13->tensorflowjs) (1.11.4)\n",
            "Requirement already satisfied: absl-py>=1.0.0 in /usr/local/lib/python3.10/dist-packages (from tensorflow<3,>=2.13.0->tensorflowjs) (1.4.0)\n",
            "Requirement already satisfied: astunparse>=1.6.0 in /usr/local/lib/python3.10/dist-packages (from tensorflow<3,>=2.13.0->tensorflowjs) (1.6.3)\n",
            "Requirement already satisfied: flatbuffers>=23.5.26 in /usr/local/lib/python3.10/dist-packages (from tensorflow<3,>=2.13.0->tensorflowjs) (24.3.25)\n",
            "Requirement already satisfied: gast!=0.5.0,!=0.5.1,!=0.5.2,>=0.2.1 in /usr/local/lib/python3.10/dist-packages (from tensorflow<3,>=2.13.0->tensorflowjs) (0.5.4)\n",
            "Requirement already satisfied: google-pasta>=0.1.1 in /usr/local/lib/python3.10/dist-packages (from tensorflow<3,>=2.13.0->tensorflowjs) (0.2.0)\n",
            "Requirement already satisfied: h5py>=3.10.0 in /usr/local/lib/python3.10/dist-packages (from tensorflow<3,>=2.13.0->tensorflowjs) (3.11.0)\n",
            "Requirement already satisfied: libclang>=13.0.0 in /usr/local/lib/python3.10/dist-packages (from tensorflow<3,>=2.13.0->tensorflowjs) (18.1.1)\n",
            "Requirement already satisfied: protobuf!=4.21.0,!=4.21.1,!=4.21.2,!=4.21.3,!=4.21.4,!=4.21.5,<5.0.0dev,>=3.20.3 in /usr/local/lib/python3.10/dist-packages (from tensorflow<3,>=2.13.0->tensorflowjs) (3.20.3)\n",
            "Requirement already satisfied: requests<3,>=2.21.0 in /usr/local/lib/python3.10/dist-packages (from tensorflow<3,>=2.13.0->tensorflowjs) (2.31.0)\n",
            "Requirement already satisfied: setuptools in /usr/local/lib/python3.10/dist-packages (from tensorflow<3,>=2.13.0->tensorflowjs) (67.7.2)\n",
            "Requirement already satisfied: termcolor>=1.1.0 in /usr/local/lib/python3.10/dist-packages (from tensorflow<3,>=2.13.0->tensorflowjs) (2.4.0)\n",
            "Requirement already satisfied: wrapt>=1.11.0 in /usr/local/lib/python3.10/dist-packages (from tensorflow<3,>=2.13.0->tensorflowjs) (1.14.1)\n",
            "Requirement already satisfied: grpcio<2.0,>=1.24.3 in /usr/local/lib/python3.10/dist-packages (from tensorflow<3,>=2.13.0->tensorflowjs) (1.62.1)\n",
            "Requirement already satisfied: tensorboard<2.17,>=2.16 in /usr/local/lib/python3.10/dist-packages (from tensorflow<3,>=2.13.0->tensorflowjs) (2.16.2)\n",
            "Requirement already satisfied: keras>=3.0.0 in /usr/local/lib/python3.10/dist-packages (from tensorflow<3,>=2.13.0->tensorflowjs) (3.2.1)\n",
            "Requirement already satisfied: tensorflow-io-gcs-filesystem>=0.23.1 in /usr/local/lib/python3.10/dist-packages (from tensorflow<3,>=2.13.0->tensorflowjs) (0.36.0)\n",
            "Requirement already satisfied: pandas in /usr/local/lib/python3.10/dist-packages (from tensorflow-decision-forests>=1.5.0->tensorflowjs) (2.0.3)\n",
            "Requirement already satisfied: wheel in /usr/local/lib/python3.10/dist-packages (from tensorflow-decision-forests>=1.5.0->tensorflowjs) (0.43.0)\n",
            "Requirement already satisfied: wurlitzer in /usr/local/lib/python3.10/dist-packages (from tensorflow-decision-forests>=1.5.0->tensorflowjs) (3.0.3)\n",
            "Requirement already satisfied: tf-keras~=2.16 in /usr/local/lib/python3.10/dist-packages (from tensorflow-decision-forests>=1.5.0->tensorflowjs) (2.16.0)\n",
            "Requirement already satisfied: namex in /usr/local/lib/python3.10/dist-packages (from keras>=3.0.0->tensorflow<3,>=2.13.0->tensorflowjs) (0.0.7)\n",
            "Requirement already satisfied: optree in /usr/local/lib/python3.10/dist-packages (from keras>=3.0.0->tensorflow<3,>=2.13.0->tensorflowjs) (0.11.0)\n",
            "Requirement already satisfied: charset-normalizer<4,>=2 in /usr/local/lib/python3.10/dist-packages (from requests<3,>=2.21.0->tensorflow<3,>=2.13.0->tensorflowjs) (3.3.2)\n",
            "Requirement already satisfied: idna<4,>=2.5 in /usr/local/lib/python3.10/dist-packages (from requests<3,>=2.21.0->tensorflow<3,>=2.13.0->tensorflowjs) (3.6)\n",
            "Requirement already satisfied: urllib3<3,>=1.21.1 in /usr/local/lib/python3.10/dist-packages (from requests<3,>=2.21.0->tensorflow<3,>=2.13.0->tensorflowjs) (2.0.7)\n",
            "Requirement already satisfied: certifi>=2017.4.17 in /usr/local/lib/python3.10/dist-packages (from requests<3,>=2.21.0->tensorflow<3,>=2.13.0->tensorflowjs) (2024.2.2)\n",
            "Requirement already satisfied: markdown-it-py>=2.2.0 in /usr/local/lib/python3.10/dist-packages (from rich>=11.1->flax>=0.7.2->tensorflowjs) (3.0.0)\n",
            "Requirement already satisfied: pygments<3.0.0,>=2.13.0 in /usr/local/lib/python3.10/dist-packages (from rich>=11.1->flax>=0.7.2->tensorflowjs) (2.16.1)\n",
            "Requirement already satisfied: markdown>=2.6.8 in /usr/local/lib/python3.10/dist-packages (from tensorboard<2.17,>=2.16->tensorflow<3,>=2.13.0->tensorflowjs) (3.6)\n",
            "Requirement already satisfied: tensorboard-data-server<0.8.0,>=0.7.0 in /usr/local/lib/python3.10/dist-packages (from tensorboard<2.17,>=2.16->tensorflow<3,>=2.13.0->tensorflowjs) (0.7.2)\n",
            "Requirement already satisfied: werkzeug>=1.0.1 in /usr/local/lib/python3.10/dist-packages (from tensorboard<2.17,>=2.16->tensorflow<3,>=2.13.0->tensorflowjs) (3.0.2)\n",
            "Requirement already satisfied: chex>=0.1.86 in /usr/local/lib/python3.10/dist-packages (from optax->flax>=0.7.2->tensorflowjs) (0.1.86)\n",
            "Requirement already satisfied: etils[epath,epy] in /usr/local/lib/python3.10/dist-packages (from orbax-checkpoint->flax>=0.7.2->tensorflowjs) (1.7.0)\n",
            "Requirement already satisfied: nest_asyncio in /usr/local/lib/python3.10/dist-packages (from orbax-checkpoint->flax>=0.7.2->tensorflowjs) (1.6.0)\n",
            "Requirement already satisfied: python-dateutil>=2.8.2 in /usr/local/lib/python3.10/dist-packages (from pandas->tensorflow-decision-forests>=1.5.0->tensorflowjs) (2.8.2)\n",
            "Requirement already satisfied: pytz>=2020.1 in /usr/local/lib/python3.10/dist-packages (from pandas->tensorflow-decision-forests>=1.5.0->tensorflowjs) (2023.4)\n",
            "Requirement already satisfied: tzdata>=2022.1 in /usr/local/lib/python3.10/dist-packages (from pandas->tensorflow-decision-forests>=1.5.0->tensorflowjs) (2024.1)\n",
            "Requirement already satisfied: toolz>=0.9.0 in /usr/local/lib/python3.10/dist-packages (from chex>=0.1.86->optax->flax>=0.7.2->tensorflowjs) (0.12.1)\n",
            "Requirement already satisfied: mdurl~=0.1 in /usr/local/lib/python3.10/dist-packages (from markdown-it-py>=2.2.0->rich>=11.1->flax>=0.7.2->tensorflowjs) (0.1.2)\n",
            "Requirement already satisfied: MarkupSafe>=2.1.1 in /usr/local/lib/python3.10/dist-packages (from werkzeug>=1.0.1->tensorboard<2.17,>=2.16->tensorflow<3,>=2.13.0->tensorflowjs) (2.1.5)\n",
            "Requirement already satisfied: fsspec in /usr/local/lib/python3.10/dist-packages (from etils[epath,epy]->orbax-checkpoint->flax>=0.7.2->tensorflowjs) (2023.6.0)\n",
            "Requirement already satisfied: zipp in /usr/local/lib/python3.10/dist-packages (from etils[epath,epy]->orbax-checkpoint->flax>=0.7.2->tensorflowjs) (3.18.1)\n"
          ]
        }
      ]
    },
    {
      "cell_type": "markdown",
      "source": [
        "The first line of code is a terminal command to change the directory to the ‘mobilenetv2’ folder created."
      ],
      "metadata": {
        "id": "hCpDwart2RBp"
      }
    },
    {
      "cell_type": "markdown",
      "source": [
        " The second line of code calls the ‘tensorflowjs_converter’."
      ],
      "metadata": {
        "id": "IuEXDC_f3Rdo"
      }
    },
    {
      "cell_type": "markdown",
      "source": [
        "This takes the following parameters:\n"
      ],
      "metadata": {
        "id": "bRG37oZN3UAj"
      }
    },
    {
      "cell_type": "markdown",
      "source": [
        "The first parameter is the input format of the file that you want to convert, which is Keras.\n"
      ],
      "metadata": {
        "id": "tJhlBCqz3Wbg"
      }
    },
    {
      "cell_type": "markdown",
      "source": [
        "The second parameter is the output format to which you want to convert. In this case, you need the ‘tfjs_layers_model’ format to create a layers model suitable for transfer learning.\n"
      ],
      "metadata": {
        "id": "4Oi_IwOW3YiY"
      }
    },
    {
      "cell_type": "markdown",
      "source": [
        "Next is the location of the input file. In this case, it is the ‘/tmp/mobilenetv2/saved_model.h5 ’ which is the location of the h5 file you just saved to disk.\n"
      ],
      "metadata": {
        "id": "CcC5R2L93efO"
      }
    },
    {
      "cell_type": "markdown",
      "source": [
        "Finally, you specify the output folder to place the generated tensorflow.js model files. Here you ask to create a new folder in the system tmp folder called ‘tfjs_mobilenetv2’."
      ],
      "metadata": {
        "id": "j6Uk8z9g3hLw"
      }
    },
    {
      "cell_type": "markdown",
      "source": [
        "Select Play. Once the cell completes executing the code, navigate to the ‘tmp’ folder. You should see a new tfjs_mobilenetv2 folder with the model’s ‘json’ and ‘bin’ files inside."
      ],
      "metadata": {
        "id": "uwkixEiw2cue"
      }
    },
    {
      "cell_type": "code",
      "source": [
        "!cd /tmp/mobilenetv2/\n",
        "!tensorflowjs_converter --input_format=keras --output_format=tfjs_layers_model /tmp/mobilenetv2/saved_model.h5 /tmp/tfjs_mobilenetv2"
      ],
      "metadata": {
        "colab": {
          "base_uri": "https://localhost:8080/"
        },
        "id": "D7g3XZwUupuC",
        "outputId": "3fb2149f-3dea-4a0a-e37b-ffe37bdcd435"
      },
      "execution_count": 3,
      "outputs": [
        {
          "output_type": "stream",
          "name": "stdout",
          "text": [
            "2024-04-12 23:55:45.235686: I tensorflow/core/platform/cpu_feature_guard.cc:210] This TensorFlow binary is optimized to use available CPU instructions in performance-critical operations.\n",
            "To enable the following instructions: AVX2 FMA, in other operations, rebuild TensorFlow with the appropriate compiler flags.\n",
            "2024-04-12 23:55:46.578954: W tensorflow/compiler/tf2tensorrt/utils/py_utils.cc:38] TF-TRT Warning: Could not find TensorRT\n"
          ]
        }
      ]
    },
    {
      "cell_type": "markdown",
      "source": [
        "To download each of the resulting files to your own hard drive, hover over the file, select the three dots that appear to the right of the file name, select download, and save the resulting file to your hard drive."
      ],
      "metadata": {
        "id": "3bRhhKwk2gtM"
      }
    },
    {
      "cell_type": "markdown",
      "source": [
        "Note: If you end up converting larger models in the future with many binary output files to download, you may want to zip all the files together into one file to save time when downloading."
      ],
      "metadata": {
        "id": "OVB5Y4Rd2kVr"
      }
    },
    {
      "cell_type": "markdown",
      "source": [
        "The coede below shows how to call the zip program on the command line to create a new zip file called ‘modeldata.zip’ in the tfjs_mobilenetv2 folder which contains all the files and folders that are currently contained within the ‘tfjs_mobilenetv2’ folder. Note the minus r at the start simply means to recursively do this for all subfolders too if there are any.\n"
      ],
      "metadata": {
        "id": "dCGtBxeH2meF"
      }
    },
    {
      "cell_type": "code",
      "source": [
        "!zip -r /tmp/tfjs_mobilenetv2/modeldata.zip /tmp/tfjs_mobilenetv2"
      ],
      "metadata": {
        "colab": {
          "base_uri": "https://localhost:8080/"
        },
        "id": "poYvX-A5vjxi",
        "outputId": "47a00a29-d471-4b5e-a5db-896208fdeca3"
      },
      "execution_count": 4,
      "outputs": [
        {
          "output_type": "stream",
          "name": "stdout",
          "text": [
            "  adding: tmp/tfjs_mobilenetv2/ (stored 0%)\n",
            "  adding: tmp/tfjs_mobilenetv2/group1-shard1of4.bin (deflated 7%)\n",
            "  adding: tmp/tfjs_mobilenetv2/group1-shard4of4.bin (deflated 7%)\n",
            "  adding: tmp/tfjs_mobilenetv2/model.json (deflated 96%)\n",
            "  adding: tmp/tfjs_mobilenetv2/group1-shard2of4.bin (deflated 7%)\n",
            "  adding: tmp/tfjs_mobilenetv2/group1-shard3of4.bin (deflated 7%)\n"
          ]
        }
      ]
    },
    {
      "cell_type": "markdown",
      "source": [
        "You can then see the new modeldata.zip file has been created on the left which you can download in 1 click and then unzip on your own computer to view the contents in a much faster manner than downloading all the files individually, which is a lot more clicking."
      ],
      "metadata": {
        "id": "OelJd41L2pUO"
      }
    },
    {
      "cell_type": "markdown",
      "source": [
        "Note: There will be times when more complex models that compile down to use less common operations will not be supported for conversion. The browser-based version of TensorFlow.js is a complete rewrite of TensorFlow and as such does not currently support all of the low-level operations that the TensorFlow C++ API has."
      ],
      "metadata": {
        "id": "eflPZkJL2rmD"
      }
    },
    {
      "cell_type": "markdown",
      "source": [
        "If you are unable to convert a Python saved model, you have two options:\n",
        "Ask the original creator of the model not to use that op in favor of more standard operations\n",
        "Contribute the missing op to the TensorFlow.js project - it is open source after all and welcomes contributions by the community.\n"
      ],
      "metadata": {
        "id": "mu0MW4Xl2tw5"
      }
    },
    {
      "cell_type": "markdown",
      "source": [
        "Note: If a particular op keeps coming up as an issue for you (and others) for a certain type of model, you may want to consider submitting a feature request to the TensorFlow.js Github page detailing the use case, model details, and the impact it would have if it were supported."
      ],
      "metadata": {
        "id": "fkteJjV52wGQ"
      }
    },
    {
      "cell_type": "markdown",
      "source": [
        "If you are curious to learn more about ops and contributing missing ones, which is an advanced topic, check out some of the links shown below. For those of you who may be from a less mathematical background, the link to create a feature request is also shown at the bottom of this slide. By submitting a feature request someone from the community or the TensorFlow.js team may see the request and be able to implement it for you if there is enough demand."
      ],
      "metadata": {
        "id": "GEoy1CRT2xnh"
      }
    },
    {
      "cell_type": "markdown",
      "source": [
        "You can also navigate to the TensorFlow.js converter documentation on Github to find the full suite of options you can use when converting from Python to JS, along with a variety of useful options."
      ],
      "metadata": {
        "id": "ea4XphLk2zTb"
      }
    },
    {
      "cell_type": "markdown",
      "source": [
        "Finally, if you happen to be running on Linux directly and not in a Colab notebook, you can also run the slightly friendlier version of the converter known as the ‘TensorFlow js wizard’ from the command line terminal window. To do that, use the ‘pip3 install tensorflowjs[wizard] command to install it, and then call ‘tensorflowjs_wizard’, instead of the ‘tensorflowjs_converter’ command, and follow the on-screen prompts. For more details about doing all of this in Linux, check the linked codelab that shows you how to use it on Ubuntu."
      ],
      "metadata": {
        "id": "n4QP0ZU324Ze"
      }
    }
  ]
}